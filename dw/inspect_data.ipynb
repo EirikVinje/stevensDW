{
 "cells": [
  {
   "cell_type": "code",
   "execution_count": 3,
   "metadata": {},
   "outputs": [],
   "source": [
    "import polars as pl"
   ]
  },
  {
   "cell_type": "code",
   "execution_count": 4,
   "metadata": {},
   "outputs": [],
   "source": [
    "path = \"/home/eirik/projects/stevensDW/data/globalterrorismdb_0522dist.csv\"\n",
    "raw = pl.read_csv(path, infer_schema_length=0)"
   ]
  },
  {
   "cell_type": "code",
   "execution_count": 9,
   "metadata": {},
   "outputs": [
    {
     "name": "stdout",
     "output_type": "stream",
     "text": [
      "['10' '100' '1001' '1002' '1003' '1004' '101' '102' '103' '104' '106'\n",
      " '107' '108' '109' '11' '110' '111' '112' '113' '115' '116' '117' '118'\n",
      " '119' '12' '120' '121' '122' '123' '124' '127' '128' '129' '130' '132'\n",
      " '136' '137' '138' '139' '14' '141' '142' '143' '144' '145' '146' '147'\n",
      " '149' '15' '151' '153' '155' '156' '157' '158' '159' '16' '160' '161'\n",
      " '162' '164' '166' '167' '168' '17' '173' '174' '175' '176' '177' '178'\n",
      " '179' '18' '180' '181' '182' '183' '184' '185' '186' '189' '19' '190'\n",
      " '195' '196' '197' '198' '199' '20' '200' '201' '202' '203' '204' '205'\n",
      " '207' '208' '209' '21' '210' '213' '214' '215' '217' '218' '219' '22'\n",
      " '220' '221' '222' '223' '226' '228' '229' '23' '230' '231' '235' '236'\n",
      " '25' '26' '28' '29' '30' '31' '32' '33' '34' '347' '349' '35' '359' '36'\n",
      " '362' '37' '377' '38' '4' '403' '406' '41' '42' '422' '43' '44' '45' '46'\n",
      " '47' '49' '499' '5' '50' '51' '53' '532' '54' '55' '56' '57' '58' '59'\n",
      " '6' '60' '603' '604' '605' '61' '62' '63' '64' '65' '66' '67' '68' '69'\n",
      " '7' '70' '71' '72' '73' '74' '75' '76' '78' '8' '80' '81' '83' '84' '85'\n",
      " '86' '87' '88' '89' '90' '91' '92' '93' '94' '95' '96' '97' '98' '99']\n"
     ]
    }
   ],
   "source": [
    "import numpy as np\n",
    "\n",
    "# get unique countries\n",
    "countries = raw.select(\"country\")\n",
    "\n",
    "print(np.unique(countries))"
   ]
  },
  {
   "cell_type": "code",
   "execution_count": null,
   "metadata": {},
   "outputs": [],
   "source": []
  },
  {
   "cell_type": "code",
   "execution_count": null,
   "metadata": {},
   "outputs": [],
   "source": [
    "b = \"123\"\n",
    "\n",
    "a = \"this is { asds {asdas} asdasd } a test\".format(b)\n",
    "\n",
    "print(a)"
   ]
  },
  {
   "cell_type": "code",
   "execution_count": 14,
   "metadata": {},
   "outputs": [
    {
     "data": {
      "text/plain": [
       "[1]"
      ]
     },
     "execution_count": 14,
     "metadata": {},
     "output_type": "execute_result"
    }
   ],
   "source": [
    "a = []\n",
    "\n",
    "\n",
    "def insert(a):\n",
    "\n",
    "    a.append(1)\n",
    "\n",
    "\n",
    "_ = insert(a)\n",
    "\n",
    "a"
   ]
  }
 ],
 "metadata": {
  "kernelspec": {
   "display_name": "gt",
   "language": "python",
   "name": "python3"
  },
  "language_info": {
   "codemirror_mode": {
    "name": "ipython",
    "version": 3
   },
   "file_extension": ".py",
   "mimetype": "text/x-python",
   "name": "python",
   "nbconvert_exporter": "python",
   "pygments_lexer": "ipython3",
   "version": "3.10.0"
  }
 },
 "nbformat": 4,
 "nbformat_minor": 2
}
