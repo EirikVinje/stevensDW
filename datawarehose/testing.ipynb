{
 "cells": [
  {
   "cell_type": "code",
   "execution_count": 10,
   "metadata": {},
   "outputs": [
    {
     "name": "stdout",
     "output_type": "stream",
     "text": [
      "(eventid INT, iyear INT, country_txt VARCHAR(255))\n"
     ]
    }
   ],
   "source": [
    "columns = [(\"eventid\", \"INT\"), (\"iyear\", \"INT\"), (\"country_txt\", \"VARCHAR(255)\")]\n",
    "\n",
    "\n",
    "table_columns =  \"(\"\n",
    "for value in columns:\n",
    "    table_columns += f\"{value[0]} {value[1]}, \"\n",
    "table_columns = table_columns[:-2] + \")\"\n",
    "\n",
    "\n",
    "print(table_columns)"
   ]
  },
  {
   "cell_type": "code",
   "execution_count": null,
   "metadata": {},
   "outputs": [],
   "source": []
  }
 ],
 "metadata": {
  "kernelspec": {
   "display_name": "env",
   "language": "python",
   "name": "python3"
  },
  "language_info": {
   "codemirror_mode": {
    "name": "ipython",
    "version": 3
   },
   "file_extension": ".py",
   "mimetype": "text/x-python",
   "name": "python",
   "nbconvert_exporter": "python",
   "pygments_lexer": "ipython3",
   "version": "3.9.18"
  }
 },
 "nbformat": 4,
 "nbformat_minor": 2
}
